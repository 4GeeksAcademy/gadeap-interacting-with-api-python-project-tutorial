{
    "cells": [
        {
            "cell_type": "markdown",
            "metadata": {},
            "source": [
                "# Explore here"
            ]
        },
        {
            "cell_type": "code",
            "execution_count": 30,
            "metadata": {},
            "outputs": [
                {
                    "ename": "SpotifyOauthError",
                    "evalue": "No client_id. Pass it or set a SPOTIPY_CLIENT_ID environment variable.",
                    "output_type": "error",
                    "traceback": [
                        "\u001b[0;31m---------------------------------------------------------------------------\u001b[0m",
                        "\u001b[0;31mSpotifyOauthError\u001b[0m                         Traceback (most recent call last)",
                        "Cell \u001b[0;32mIn[30], line 14\u001b[0m\n\u001b[1;32m     11\u001b[0m \u001b[38;5;28;01mimport\u001b[39;00m \u001b[38;5;21;01mspotipy\u001b[39;00m\n\u001b[1;32m     12\u001b[0m \u001b[38;5;28;01mfrom\u001b[39;00m \u001b[38;5;21;01mspotipy\u001b[39;00m\u001b[38;5;21;01m.\u001b[39;00m\u001b[38;5;21;01moauth2\u001b[39;00m \u001b[38;5;28;01mimport\u001b[39;00m SpotifyClientCredentials\n\u001b[0;32m---> 14\u001b[0m client_credentials_manager \u001b[38;5;241m=\u001b[39m \u001b[43mSpotifyClientCredentials\u001b[49m\u001b[43m(\u001b[49m\u001b[43mclient_id\u001b[49m\u001b[38;5;241;43m=\u001b[39;49m\u001b[43mclient_id\u001b[49m\u001b[43m,\u001b[49m\u001b[43m \u001b[49m\u001b[43mclient_secret\u001b[49m\u001b[38;5;241;43m=\u001b[39;49m\u001b[43mclient_secret\u001b[49m\u001b[43m)\u001b[49m\n\u001b[1;32m     15\u001b[0m sp \u001b[38;5;241m=\u001b[39m spotipy\u001b[38;5;241m.\u001b[39mSpotify(client_credentials_manager\u001b[38;5;241m=\u001b[39mclient_credentials_manager)\n",
                        "File \u001b[0;32m~/.local/lib/python3.11/site-packages/spotipy/oauth2.py:201\u001b[0m, in \u001b[0;36mSpotifyClientCredentials.__init__\u001b[0;34m(self, client_id, client_secret, proxies, requests_session, requests_timeout, cache_handler)\u001b[0m\n\u001b[1;32m    172\u001b[0m \u001b[38;5;250m\u001b[39m\u001b[38;5;124;03m\"\"\"\u001b[39;00m\n\u001b[1;32m    173\u001b[0m \u001b[38;5;124;03mCreates a Client Credentials Flow Manager.\u001b[39;00m\n\u001b[1;32m    174\u001b[0m \n\u001b[0;32m   (...)\u001b[0m\n\u001b[1;32m    196\u001b[0m \n\u001b[1;32m    197\u001b[0m \u001b[38;5;124;03m\"\"\"\u001b[39;00m\n\u001b[1;32m    199\u001b[0m \u001b[38;5;28msuper\u001b[39m(SpotifyClientCredentials, \u001b[38;5;28mself\u001b[39m)\u001b[38;5;241m.\u001b[39m\u001b[38;5;21m__init__\u001b[39m(requests_session)\n\u001b[0;32m--> 201\u001b[0m \u001b[38;5;28;43mself\u001b[39;49m\u001b[38;5;241;43m.\u001b[39;49m\u001b[43mclient_id\u001b[49m \u001b[38;5;241m=\u001b[39m client_id\n\u001b[1;32m    202\u001b[0m \u001b[38;5;28mself\u001b[39m\u001b[38;5;241m.\u001b[39mclient_secret \u001b[38;5;241m=\u001b[39m client_secret\n\u001b[1;32m    203\u001b[0m \u001b[38;5;28mself\u001b[39m\u001b[38;5;241m.\u001b[39mproxies \u001b[38;5;241m=\u001b[39m proxies\n",
                        "File \u001b[0;32m~/.local/lib/python3.11/site-packages/spotipy/oauth2.py:94\u001b[0m, in \u001b[0;36mSpotifyAuthBase.client_id\u001b[0;34m(self, val)\u001b[0m\n\u001b[1;32m     92\u001b[0m \u001b[38;5;129m@client_id\u001b[39m\u001b[38;5;241m.\u001b[39msetter\n\u001b[1;32m     93\u001b[0m \u001b[38;5;28;01mdef\u001b[39;00m \u001b[38;5;21mclient_id\u001b[39m(\u001b[38;5;28mself\u001b[39m, val):\n\u001b[0;32m---> 94\u001b[0m     \u001b[38;5;28mself\u001b[39m\u001b[38;5;241m.\u001b[39m_client_id \u001b[38;5;241m=\u001b[39m \u001b[43m_ensure_value\u001b[49m\u001b[43m(\u001b[49m\u001b[43mval\u001b[49m\u001b[43m,\u001b[49m\u001b[43m \u001b[49m\u001b[38;5;124;43m\"\u001b[39;49m\u001b[38;5;124;43mclient_id\u001b[39;49m\u001b[38;5;124;43m\"\u001b[39;49m\u001b[43m)\u001b[49m\n",
                        "File \u001b[0;32m~/.local/lib/python3.11/site-packages/spotipy/oauth2.py:70\u001b[0m, in \u001b[0;36m_ensure_value\u001b[0;34m(value, env_key)\u001b[0m\n\u001b[1;32m     65\u001b[0m \u001b[38;5;28;01mif\u001b[39;00m _val \u001b[38;5;129;01mis\u001b[39;00m \u001b[38;5;28;01mNone\u001b[39;00m:\n\u001b[1;32m     66\u001b[0m     msg \u001b[38;5;241m=\u001b[39m \u001b[38;5;124m\"\u001b[39m\u001b[38;5;124mNo \u001b[39m\u001b[38;5;132;01m%s\u001b[39;00m\u001b[38;5;124m. Pass it or set a \u001b[39m\u001b[38;5;132;01m%s\u001b[39;00m\u001b[38;5;124m environment variable.\u001b[39m\u001b[38;5;124m\"\u001b[39m \u001b[38;5;241m%\u001b[39m (\n\u001b[1;32m     67\u001b[0m         env_key,\n\u001b[1;32m     68\u001b[0m         env_val,\n\u001b[1;32m     69\u001b[0m     )\n\u001b[0;32m---> 70\u001b[0m     \u001b[38;5;28;01mraise\u001b[39;00m SpotifyOauthError(msg)\n\u001b[1;32m     71\u001b[0m \u001b[38;5;28;01mreturn\u001b[39;00m _val\n",
                        "\u001b[0;31mSpotifyOauthError\u001b[0m: No client_id. Pass it or set a SPOTIPY_CLIENT_ID environment variable."
                    ]
                }
            ],
            "source": [
                "from dotenv import load_dotenv\n",
                "load_dotenv()\n",
                "\n",
                "import os\n",
                "import pandas as pd\n",
                "import matplotlib.pyplot as plt\n",
                "\n",
                "client_id = os.environ.get(\"CLIENT_ID\")\n",
                "client_secret = os.environ.get(\"CLIENT_SECRET\")\n",
                "\n",
                "import spotipy\n",
                "from spotipy.oauth2 import SpotifyClientCredentials\n",
                "\n",
                "client_credentials_manager = SpotifyClientCredentials(client_id=client_id, client_secret=client_secret)\n",
                "sp = spotipy.Spotify(client_credentials_manager=client_credentials_manager)\n"
            ]
        },
        {
            "cell_type": "code",
            "execution_count": 31,
            "metadata": {},
            "outputs": [],
            "source": [
                "def get_top_tracks(artist_id, limit=10):\n",
                "    top_tracks = sp.artist_top_tracks(artist_id)\n",
                "    tracks_data = []\n",
                "    for track in top_tracks['tracks'][:limit]:\n",
                "        track_name = track['name']\n",
                "        popularity = track['popularity']\n",
                "        duration_ms = track['duration_ms']\n",
                "        duration_min = duration_ms / (1000 * 60)\n",
                "        tracks_data.append({'Canción': track_name, 'Popularidad': popularity, 'Duración (min)': duration_min})\n",
                "    return pd.DataFrame(tracks_data)\n"
            ]
        },
        {
            "cell_type": "code",
            "execution_count": 32,
            "metadata": {},
            "outputs": [
                {
                    "ename": "AttributeError",
                    "evalue": "module 'spotipy' has no attribute 'artist_top_tracks'",
                    "output_type": "error",
                    "traceback": [
                        "\u001b[0;31m---------------------------------------------------------------------------\u001b[0m",
                        "\u001b[0;31mAttributeError\u001b[0m                            Traceback (most recent call last)",
                        "Cell \u001b[0;32mIn[32], line 2\u001b[0m\n\u001b[1;32m      1\u001b[0m artist_id \u001b[38;5;241m=\u001b[39m \u001b[38;5;124m\"\u001b[39m\u001b[38;5;124m0WwSkZ7LtFUFjGjMZBMt6T\u001b[39m\u001b[38;5;124m\"\u001b[39m\n\u001b[0;32m----> 2\u001b[0m top_tracks_df \u001b[38;5;241m=\u001b[39m \u001b[43msp\u001b[49m\u001b[38;5;241;43m.\u001b[39;49m\u001b[43martist_top_tracks\u001b[49m(artist_id)\n\u001b[1;32m      4\u001b[0m top_tracks_df_sorted \u001b[38;5;241m=\u001b[39m top_tracks_df\u001b[38;5;241m.\u001b[39msort_values(by\u001b[38;5;241m=\u001b[39m\u001b[38;5;124m'\u001b[39m\u001b[38;5;124mPopularidad\u001b[39m\u001b[38;5;124m'\u001b[39m, ascending\u001b[38;5;241m=\u001b[39m\u001b[38;5;28;01mTrue\u001b[39;00m)\u001b[38;5;241m.\u001b[39mhead(\u001b[38;5;241m3\u001b[39m)\n\u001b[1;32m      5\u001b[0m \u001b[38;5;28mprint\u001b[39m(\u001b[38;5;124m\"\u001b[39m\u001b[38;5;124mTop 3 canciones por popularidad creciente:\u001b[39m\u001b[38;5;124m\"\u001b[39m)\n",
                        "\u001b[0;31mAttributeError\u001b[0m: module 'spotipy' has no attribute 'artist_top_tracks'"
                    ]
                }
            ],
            "source": [
                "artist_id = \"0WwSkZ7LtFUFjGjMZBMt6T\"\n",
                "top_tracks_df = sp.artist_top_tracks(artist_id)\n",
                "\n",
                "top_tracks_df_sorted = top_tracks_df.sort_values(by='Popularidad', ascending=True).head(3)\n",
                "print(\"Top 3 canciones por popularidad creciente:\")\n",
                "print(top_tracks_df_sorted)"
            ]
        },
        {
            "cell_type": "code",
            "execution_count": null,
            "metadata": {},
            "outputs": [
                {
                    "ename": "NameError",
                    "evalue": "name 'top_tracks_df' is not defined",
                    "output_type": "error",
                    "traceback": [
                        "\u001b[0;31m---------------------------------------------------------------------------\u001b[0m",
                        "\u001b[0;31mNameError\u001b[0m                                 Traceback (most recent call last)",
                        "Cell \u001b[0;32mIn[29], line 2\u001b[0m\n\u001b[1;32m      1\u001b[0m plt\u001b[38;5;241m.\u001b[39mfigure(figsize\u001b[38;5;241m=\u001b[39m(\u001b[38;5;241m8\u001b[39m, \u001b[38;5;241m6\u001b[39m))\n\u001b[0;32m----> 2\u001b[0m plt\u001b[38;5;241m.\u001b[39mscatter(\u001b[43mtop_tracks_df\u001b[49m[\u001b[38;5;124m'\u001b[39m\u001b[38;5;124mDuración (min)\u001b[39m\u001b[38;5;124m'\u001b[39m], top_tracks_df[\u001b[38;5;124m'\u001b[39m\u001b[38;5;124mPopularidad\u001b[39m\u001b[38;5;124m'\u001b[39m], color\u001b[38;5;241m=\u001b[39m\u001b[38;5;124m'\u001b[39m\u001b[38;5;124mblue\u001b[39m\u001b[38;5;124m'\u001b[39m)\n\u001b[1;32m      3\u001b[0m plt\u001b[38;5;241m.\u001b[39mtitle(\u001b[38;5;124m'\u001b[39m\u001b[38;5;124mRelación entre duración y popularidad de las canciones\u001b[39m\u001b[38;5;124m'\u001b[39m)\n\u001b[1;32m      4\u001b[0m plt\u001b[38;5;241m.\u001b[39mxlabel(\u001b[38;5;124m'\u001b[39m\u001b[38;5;124mDuración (min)\u001b[39m\u001b[38;5;124m'\u001b[39m)\n",
                        "\u001b[0;31mNameError\u001b[0m: name 'top_tracks_df' is not defined"
                    ]
                },
                {
                    "data": {
                        "text/plain": [
                            "<Figure size 800x600 with 0 Axes>"
                        ]
                    },
                    "metadata": {},
                    "output_type": "display_data"
                }
            ],
            "source": [
                "plt.figure(figsize=(8, 6))\n",
                "plt.scatter(top_tracks_df['Duración (min)'], top_tracks_df['Popularidad'], color='blue')\n",
                "plt.title('Relación entre duración y popularidad de las canciones')\n",
                "plt.xlabel('Duración (min)')\n",
                "plt.ylabel('Popularidad')\n",
                "plt.grid(True)\n",
                "plt.show()"
            ]
        }
    ],
    "metadata": {
        "kernelspec": {
            "display_name": "Python 3.8.13 64-bit ('3.8.13')",
            "language": "python",
            "name": "python3"
        },
        "language_info": {
            "codemirror_mode": {
                "name": "ipython",
                "version": 3
            },
            "file_extension": ".py",
            "mimetype": "text/x-python",
            "name": "python",
            "nbconvert_exporter": "python",
            "pygments_lexer": "ipython3",
            "version": "3.11.4"
        },
        "orig_nbformat": 4,
        "vscode": {
            "interpreter": {
                "hash": "110cc1dee26208153f2972f08a2ad52b6a56238dc66d48e87fb757ef2996db56"
            }
        }
    },
    "nbformat": 4,
    "nbformat_minor": 2
}
